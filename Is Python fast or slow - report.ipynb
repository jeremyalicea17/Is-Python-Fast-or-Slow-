{
 "cells": [
  {
   "cell_type": "markdown",
   "id": "c00e92c5",
   "metadata": {},
   "source": [
    "# Is Python Fast or Slow? - Code implementation\n",
    "### Group F - Juan D. Pérez Sepúlveda, Jeremy N. Alicea Vázquez, Jeanpaul D. Ortiz Rodriguez"
   ]
  },
  {
   "cell_type": "code",
   "execution_count": 180,
   "id": "fdb8a1cc",
   "metadata": {
    "scrolled": true
   },
   "outputs": [
    {
     "name": "stdout",
     "output_type": "stream",
     "text": [
      "This results are without using numpy\n",
      "Arrays with dimension less than 10\n",
      "1-D size 1 x 0, 2-D size of 0 x 0, time without numpy: 0.000 ms, time withnumpy: 0.000 ms\n",
      "1-D size 1 x 1, 2-D size of 1 x 1, time without numpy: 0.000 ms, time withnumpy: 0.000 ms\n",
      "1-D size 1 x 2, 2-D size of 2 x 2, time without numpy: 0.000 ms, time withnumpy: 0.000 ms\n",
      "1-D size 1 x 3, 2-D size of 3 x 3, time without numpy: 0.000 ms, time withnumpy: 0.000 ms\n",
      "1-D size 1 x 4, 2-D size of 4 x 4, time without numpy: 0.000 ms, time withnumpy: 0.000 ms\n",
      "1-D size 1 x 5, 2-D size of 5 x 5, time without numpy: 0.000 ms, time withnumpy: 0.000 ms\n",
      "1-D size 1 x 6, 2-D size of 6 x 6, time without numpy: 0.000 ms, time withnumpy: 0.000 ms\n",
      "1-D size 1 x 7, 2-D size of 7 x 7, time without numpy: 0.000 ms, time withnumpy: 0.000 ms\n",
      "1-D size 1 x 8, 2-D size of 8 x 8, time without numpy: 0.000 ms, time withnumpy: 0.000 ms\n",
      "1-D size 1 x 9, 2-D size of 9 x 9, time without numpy: 0.000 ms, time withnumpy: 0.000 ms\n",
      "Arrays with dimension bigger than 9 but less than 100\n",
      "1-D size 1 x 22, 2-D size of 22 x 22, time without numpy: 0.000 ms, time withnumpy: 0.000 ms\n",
      "1-D size 1 x 77, 2-D size of 77 x 77, time without numpy: 0.000 ms, time withnumpy: 0.000 ms\n",
      "1-D size 1 x 94, 2-D size of 94 x 94, time without numpy: 1.000 ms, time withnumpy: 0.000 ms\n",
      "1-D size 1 x 58, 2-D size of 58 x 58, time without numpy: 0.000 ms, time withnumpy: 0.000 ms\n",
      "1-D size 1 x 88, 2-D size of 88 x 88, time without numpy: 0.000 ms, time withnumpy: 1.007 ms\n",
      "1-D size 1 x 74, 2-D size of 74 x 74, time without numpy: 0.000 ms, time withnumpy: 0.000 ms\n",
      "1-D size 1 x 76, 2-D size of 76 x 76, time without numpy: 0.000 ms, time withnumpy: 0.000 ms\n",
      "1-D size 1 x 73, 2-D size of 73 x 73, time without numpy: 0.000 ms, time withnumpy: 0.000 ms\n",
      "1-D size 1 x 74, 2-D size of 74 x 74, time without numpy: 0.000 ms, time withnumpy: 0.000 ms\n",
      "1-D size 1 x 16, 2-D size of 16 x 16, time without numpy: 0.000 ms, time withnumpy: 0.000 ms\n",
      "Arrays with dimension bigger than 99 but less than 1000\n",
      "1-D size 1 x 469, 2-D size of 469 x 469, time without numpy: 11.620 ms, time withnumpy: 9.999 ms\n",
      "1-D size 1 x 762, 2-D size of 762 x 762, time without numpy: 33.850 ms, time withnumpy: 25.819 ms\n",
      "1-D size 1 x 891, 2-D size of 891 x 891, time without numpy: 44.425 ms, time withnumpy: 35.004 ms\n",
      "1-D size 1 x 718, 2-D size of 718 x 718, time without numpy: 28.906 ms, time withnumpy: 21.108 ms\n",
      "1-D size 1 x 513, 2-D size of 513 x 513, time without numpy: 14.298 ms, time withnumpy: 11.003 ms\n",
      "1-D size 1 x 780, 2-D size of 780 x 780, time without numpy: 34.361 ms, time withnumpy: 26.337 ms\n",
      "1-D size 1 x 555, 2-D size of 555 x 555, time without numpy: 16.174 ms, time withnumpy: 12.034 ms\n",
      "1-D size 1 x 297, 2-D size of 297 x 297, time without numpy: 4.184 ms, time withnumpy: 3.968 ms\n",
      "1-D size 1 x 346, 2-D size of 346 x 346, time without numpy: 6.162 ms, time withnumpy: 5.001 ms\n",
      "1-D size 1 x 419, 2-D size of 419 x 419, time without numpy: 9.006 ms, time withnumpy: 7.000 ms\n"
     ]
    }
   ],
   "source": [
    "import random\n",
    "import time\n",
    "import numpy as np\n",
    "\n",
    "def productArr(size):\n",
    "    oneDArray = [0]*size\n",
    "    twoDArray = [[0] * size for _ in range(size)]\n",
    "    resultArr = [[0]* size for _ in range(size)]\n",
    "    \n",
    "    for row in range(0, size):\n",
    "        for column in range(0, size):\n",
    "            oneDArray[row] = random.randint(0, 20)\n",
    "            twoDArray[row][column] = random.randint(0, 9)\n",
    "            \n",
    "    start = time.time()\n",
    "    \n",
    "    for row in range(0, size):\n",
    "        for column in range(0, size):\n",
    "            resultArr[row][column] = oneDArray[column] * twoDArray[row][column]\n",
    "    end = time.time()\n",
    "\n",
    "####################    using numppy\n",
    "\n",
    "    npStart = time.time()\n",
    "    numpyResult = np.multiply(oneDArray, twoDArray)\n",
    "    npEnd = time.time()\n",
    "    \n",
    "###################\n",
    "\n",
    "#     print(f\"1D Array: {oneDArray} 2D Array: {twoDArray} 1D-2D Array: {resultArr}, time: {(end-start)*10**3:.03f} ms\")\n",
    "    print(f\"1-D size 1 x {size}, 2-D size of {size} x {size}, time without numpy: {(end-start)*10**3:.03f} ms, time withnumpy: {(npEnd-npStart)*10**3:.03f} ms\")\n",
    "\n",
    "####################    using numppy\n",
    "\n",
    "#     print (resultArr, \"\\n\",numpyResult)\n",
    "# productArr(200)\n",
    "\n",
    "print(\"This results are without using numpy\")\n",
    "print(\"Arrays with dimension less than 10\")\n",
    "for x in range(10):\n",
    "    productArr(x)\n",
    "    \n",
    "print(\"Arrays with dimension bigger than 9 but less than 100\")\n",
    "for x in range(10):\n",
    "    productArr(random.randint(10,99))\n",
    "\n",
    "print(\"Arrays with dimension bigger than 99 but less than 1000\")\n",
    "for x in range(10):\n",
    "    productArr(random.randint(100,999))\n"
   ]
  },
  {
   "cell_type": "code",
   "execution_count": null,
   "id": "4510b177",
   "metadata": {},
   "outputs": [],
   "source": []
  }
 ],
 "metadata": {
  "kernelspec": {
   "display_name": "Python 3 (ipykernel)",
   "language": "python",
   "name": "python3"
  },
  "language_info": {
   "codemirror_mode": {
    "name": "ipython",
    "version": 3
   },
   "file_extension": ".py",
   "mimetype": "text/x-python",
   "name": "python",
   "nbconvert_exporter": "python",
   "pygments_lexer": "ipython3",
   "version": "3.11.5"
  }
 },
 "nbformat": 4,
 "nbformat_minor": 5
}
